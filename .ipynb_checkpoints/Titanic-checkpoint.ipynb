{
 "cells": [
  {
   "cell_type": "code",
   "execution_count": 1,
   "metadata": {},
   "outputs": [],
   "source": [
    "import numpy as np # linear algebra\n",
    "import pandas as pd # data processing, CSV file I/O (e.g. pd.read_csv)\n",
    "import os\n",
    "\n",
    "from sklearn.ensemble import RandomForestClassifier\n",
    "from sklearn.preprocessing import LabelEncoder\n",
    "from sklearn.metrics import make_scorer, accuracy_score\n",
    "from sklearn.model_selection import GridSearchCV\n",
    "from sklearn.model_selection import train_test_split\n",
    "from sklearn.model_selection import KFold\n",
    "\n",
    "from collections import defaultdict\n",
    "from collections import Counter\n",
    "\n",
    "ages = defaultdict(int)\n",
    "counter = Counter()\n",
    "# ages = defaultdict(list)\n",
    "fare_temp = []\n"
   ]
  },
  {
   "cell_type": "code",
   "execution_count": 2,
   "metadata": {},
   "outputs": [],
   "source": [
    "def extract_prefix(x):\n",
    "    pre2eng = {'Mlle':'Miss','Ms': 'Miss','Mme': 'Mrs'}\n",
    "    prefix = ''\n",
    "    names = x.split(',')\n",
    "    if len(names) > 1 and '.' in names[1]:\n",
    "        prefix = names[1].split('.')[0]\n",
    "        prefix = prefix.strip()\n",
    "        if prefix in pre2eng:\n",
    "            prefix = pre2eng[prefix]\n",
    "    return prefix\n",
    "\n",
    "def simplify_name(df):\n",
    "    df['Pre'] = df.Name.apply(lambda x: extract_prefix(x))\n",
    "    return df\n",
    "\n",
    "def statistics(df):\n",
    "    global ages\n",
    "    global counter\n",
    "    \n",
    "    for k in ages:\n",
    "        ages[k] *= counter[k]\n",
    "    \n",
    "    for index,row in df.iterrows():\n",
    "        if pd.notna(row['Age']):\n",
    "            key = (row['Pre'], row['Sex'])\n",
    "#             ages[key].append(row['Age'])\n",
    "            counter[key] += 1\n",
    "            ages[key] += row['Age']\n",
    "    for k in ages:\n",
    "        ages[k] /= counter[k]"
   ]
  },
  {
   "cell_type": "code",
   "execution_count": 3,
   "metadata": {},
   "outputs": [],
   "source": [
    "def simplify_ages(df):\n",
    "    statistics(df)\n",
    "    global ages\n",
    "    for index,row in df.iterrows():\n",
    "        if pd.isna(row['Age']):\n",
    "            key = (row['Pre'], row['Sex'])\n",
    "            df.loc[index,'Age'] = ages[key]\n",
    "    df['Age'].fillna(-0.5)\n",
    "    bins = (-1,0, 5, 12, 18, 25, 35, 60, 120)\n",
    "    group_names = ['Unknown','Baby', 'Child', 'Teenager', 'Student', 'Young_Adult', 'Adult', 'Senior']\n",
    "    categories = pd.cut(df.Age, bins, labels=group_names)\n",
    "    df.Age = categories\n",
    "    return df\n",
    "\n",
    "def simplify_cabins(df):\n",
    "    df.Cabin = df.Cabin.fillna('N')\n",
    "    df.Cabin = df.Cabin.apply(lambda x: x[0])\n",
    "    return df\n",
    "\n",
    "def simplify_relationship(df):\n",
    "    df['Relations'] = (df.SibSp + df.Parch)\n",
    "    return df\n",
    "\n",
    "def combine_age_class(df):\n",
    "    df['A*C'] = df.Age * df.Pclass\n",
    "    return df\n",
    "\n",
    "def simplify_fare(df):\n",
    "    global fare_temp\n",
    "    if not fare_temp:\n",
    "        fare_temp = df['Fare'].dropna().tolist()\n",
    "    else:\n",
    "        fare_temp.extend(df['Fare'].dropna().tolist())\n",
    "    df['Fare'].fillna(pd.Series(fare_temp).median(), inplace=True)\n",
    "#     print df['Fare'].dropna()\n",
    "    bins = (-1,7.91,14.454,31,1000)\n",
    "    group_names = [0,1,2,3]\n",
    "    categories = pd.cut(df.Fare, bins, labels=group_names)\n",
    "    df.Fare = categories\n",
    "    return df\n",
    "\n",
    "def transform_features(df):\n",
    "    df = simplify_name(df)\n",
    "    df = simplify_relationship(df)\n",
    "    df = simplify_ages(df)\n",
    "    df = simplify_fare(df)\n",
    "    df = combine_age_class(df)\n",
    "#     df = simplify_cabins(df)\n",
    "    df.Embarked = df.Embarked.fillna('U')\n",
    "#     print df\n",
    "    return df"
   ]
  },
  {
   "cell_type": "code",
   "execution_count": 4,
   "metadata": {},
   "outputs": [
    {
     "name": "stderr",
     "output_type": "stream",
     "text": [
      "C:\\Anaconda2\\lib\\site-packages\\pandas\\core\\indexing.py:537: SettingWithCopyWarning: \n",
      "A value is trying to be set on a copy of a slice from a DataFrame.\n",
      "Try using .loc[row_indexer,col_indexer] = value instead\n",
      "\n",
      "See the caveats in the documentation: http://pandas.pydata.org/pandas-docs/stable/indexing.html#indexing-view-versus-copy\n",
      "  self.obj[item] = s\n"
     ]
    }
   ],
   "source": [
    "train_dataframe = pd.read_csv('./train.csv')\n",
    "train_dataframe = transform_features(train_dataframe)\n",
    "test_dataframe = pd.read_csv('./test.csv')\n",
    "test_dataframe = transform_features(test_dataframe)\n",
    "   \n",
    "feature_names = ['Pclass','Pre','Age','Sex','Relations','Embarked','Fare','A*C']\n",
    "    \n",
    "train_targets = train_dataframe['Survived']\n",
    "train_features = train_dataframe[feature_names]\n",
    "\n",
    "test_features = test_dataframe[feature_names]\n",
    "    \n",
    "for name in feature_names:\n",
    "    le = LabelEncoder()\n",
    "    le = le.fit(pd.concat([train_features[name],test_features[name]]))\n",
    "    train_features.loc[:,name] = le.transform(train_features[name])\n",
    "    test_features.loc[:,name] = le.transform(test_features[name])"
   ]
  },
  {
   "cell_type": "code",
   "execution_count": 5,
   "metadata": {},
   "outputs": [],
   "source": [
    "# clf = RandomForestClassifier()\n",
    "# parameters = {'n_estimators': range(50,150), \n",
    "#              }\n",
    "\n",
    "# acc_scorer = make_scorer(accuracy_score)\n",
    "# grid_obj = GridSearchCV(clf, parameters, scoring=acc_scorer)\n",
    "# grid_obj = grid_obj.fit(train_features, train_targets)\n",
    "# clf = grid_obj.best_estimator_\n",
    "clf = RandomForestClassifier(n_estimators=100)"
   ]
  },
  {
   "cell_type": "code",
   "execution_count": 6,
   "metadata": {
    "scrolled": true
   },
   "outputs": [
    {
     "name": "stdout",
     "output_type": "stream",
     "text": [
      "Validation Mean Accuracy:0.839488139825\n"
     ]
    }
   ],
   "source": [
    "kf = KFold(n_splits=10)\n",
    "validation_accuracy=[]\n",
    "\n",
    "for train_index, validation_index in kf.split(train_features):\n",
    "    f_train,f_validation = train_features.loc[train_index],train_features.loc[validation_index]\n",
    "    t_train,t_validation = train_targets.loc[train_index],train_targets.loc[validation_index]\n",
    "    clf.fit(f_train,t_train)\n",
    "#     print(clf.feature_importances_)\n",
    "    predictions = clf.predict(f_validation)\n",
    "    accuracy = accuracy_score(t_validation,predictions)\n",
    "    validation_accuracy.append(accuracy)\n",
    "print(\"Validation Mean Accuracy:\"+str(np.mean(validation_accuracy)))"
   ]
  },
  {
   "cell_type": "code",
   "execution_count": 7,
   "metadata": {},
   "outputs": [],
   "source": [
    "clf.fit(train_features, train_targets)\n",
    "predictions = clf.predict(test_features)\n",
    "result = pd.DataFrame({'PassengerId':test_dataframe['PassengerId'],'Survived':predictions})\n",
    "result.to_csv('./result.csv',index=False)"
   ]
  },
  {
   "cell_type": "code",
   "execution_count": null,
   "metadata": {},
   "outputs": [],
   "source": []
  }
 ],
 "metadata": {
  "kernelspec": {
   "display_name": "Python 2",
   "language": "python",
   "name": "python2"
  },
  "language_info": {
   "codemirror_mode": {
    "name": "ipython",
    "version": 2
   },
   "file_extension": ".py",
   "mimetype": "text/x-python",
   "name": "python",
   "nbconvert_exporter": "python",
   "pygments_lexer": "ipython2",
   "version": "2.7.14"
  }
 },
 "nbformat": 4,
 "nbformat_minor": 2
}
